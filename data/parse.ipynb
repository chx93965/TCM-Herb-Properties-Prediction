{
 "cells": [
  {
   "cell_type": "code",
   "execution_count": 16,
   "metadata": {},
   "outputs": [],
   "source": [
    "import csv\n",
    "herbs = []\n",
    "with open('./herbProperty.csv', 'r', encoding='utf-8') as file:\n",
    "    csv_reader = csv.reader(file)\n",
    "    next(csv_reader)\n",
    "    for row in csv_reader:\n",
    "        name, temperature, tropism, flavor = row\n",
    "        herb = []\n",
    "        herb.append(name)\n",
    "        herb.append(temperature)\n",
    "        herb.append(tropism)\n",
    "        herb.append(flavor)\n",
    "        herbs.append(herb)"
   ]
  },
  {
   "cell_type": "code",
   "execution_count": 17,
   "metadata": {},
   "outputs": [],
   "source": [
    "import requests\n",
    "import re\n",
    "from bs4 import BeautifulSoup\n",
    "\n",
    "def fetch_zysj_data(id):\n",
    "    url = f'http://www.tcmip.cn/ETCM/index.php/Home/Index/yc_details.html?id={id}'\n",
    "    headers = {\n",
    "        'User-Agent': 'Mozilla/5.0 (Windows NT 10.0; Win64; x64) AppleWebKit/537.36 (KHTML, like Gecko) Chrome/123.0.0.0 Safari/537.36'\n",
    "    }\n",
    "\n",
    "    response = requests.get(url, headers=headers)\n",
    "    if response.status_code == 200:\n",
    "        response.encoding = 'utf-8'\n",
    "    if response.status_code == 200:\n",
    "        html_content = response.text\n",
    "    else:\n",
    "        print(id)\n",
    "        return\n",
    "\n",
    "    pattern = r'Components</div>(.*?)}'\n",
    "    match = re.search(pattern, html_content)\n",
    "    content = match.group(0)\n",
    "\n",
    "    pattern = r'id=(\\d+)'\n",
    "    matches = re.findall(pattern, content)\n",
    "\n",
    "    return matches\n",
    "\n",
    "# fetch_zysj_data(1)\n",
    "for i in range(1, 403):\n",
    "    component = fetch_zysj_data(i)\n",
    "    herbs[i-1].append(component)\n",
    "\n"
   ]
  },
  {
   "cell_type": "code",
   "execution_count": 18,
   "metadata": {},
   "outputs": [],
   "source": [
    "with open('output.csv', mode='w', newline='') as file:\n",
    "    writer = csv.writer(file)\n",
    "    writer.writerows(herbs)"
   ]
  },
  {
   "cell_type": "code",
   "execution_count": 4,
   "metadata": {},
   "outputs": [
    {
     "name": "stdout",
     "output_type": "stream",
     "text": [
      "AI YE Warm Liver meridian,Spleen meridian,Kidney meridian Bitter,Pungent [6, 33, 36, 37, 38, 39, 40, 41, 42, 43, 44, 45, 46, 47, 48, 49, 50, 51, 52, 53, 54, 55, 56, 57, 58, 59, 60, 61, 62, 63, 64, 65, 66, 67, 68, 69, 70, 71, 72, 73, 74, 75, 76, 77, 78, 79, 80, 81, 82, 83, 84, 85, 86, 87, 88, 89, 90, 91, 92, 93, 94, 95, 96, 97, 98, 99, 100, 101, 102, 103, 104, 105, 106, 107, 108, 109, 110, 111, 112, 113, 114, 115, 116, 117, 118, 119, 120, 121, 122, 123, 124, 125, 126, 127, 128, 129, 130, 131, 132, 133, 134, 135, 136, 137, 138, 139, 140, 141, 142, 143, 144, 145, 146, 147, 148, 149, 150, 151, 152, 153, 154, 155, 156, 157, 158, 159, 160, 161, 162, 163, 164, 165, 166, 167, 168, 169, 170, 171, 172, 173, 174, 175, 176, 177, 178, 179, 180, 181, 182, 183, 184, 185, 186, 187, 188, 189, 190, 191, 192, 193, 194]\n",
      "<class 'str'> <class 'str'> <class 'str'> <class 'str'> <class 'list'>\n"
     ]
    }
   ],
   "source": [
    "import csv\n",
    "import ast\n",
    "herbs = []\n",
    "with open('herb_components.csv', mode='r', newline='') as file:\n",
    "    csv_reader = csv.reader(file)\n",
    "    for row in csv_reader:\n",
    "        name, temperature, tropism, flavor, components = row\n",
    "        list_components = ast.literal_eval(components)\n",
    "        list_components = [int(i) for i in list_components]\n",
    "        print(name, temperature, tropism, flavor, list_components)\n",
    "        print(type(name), type(temperature), type(tropism), type(flavor), type(list_components))\n",
    "        break\n",
    "        "
   ]
  },
  {
   "cell_type": "code",
   "execution_count": null,
   "metadata": {},
   "outputs": [],
   "source": [
    "import csv\n",
    "chemicals = {}\n",
    "with open('updated_chemicals.csv', mode='r', newline='') as file:\n",
    "    csv_reader = csv.reader(file)\n",
    "    for row in csv_reader:\n",
    "        id, a, b, c, d, e, f, g, h, i, j, k, l, m, n, o, p, q, r, s, t, u = row\n",
    "        print(id, a)\n",
    "        print(type(id), type(a))\n",
    "        break"
   ]
  },
  {
   "cell_type": "code",
   "execution_count": 2,
   "metadata": {},
   "outputs": [
    {
     "name": "stdout",
     "output_type": "stream",
     "text": [
      "DIAN QIE CAO N/A\n",
      "E ZHU N/A\n",
      "LU XIAN CAO N/A\n"
     ]
    }
   ],
   "source": [
    "import csv\n",
    "herbs = []\n",
    "with open('herb_components.csv', mode='r', newline='') as file:\n",
    "    csv_reader = csv.reader(file)\n",
    "    for row in csv_reader:\n",
    "        name, temperature, tropism, flavor, components = row\n",
    "        great_hot = 1 if temperature == 'Great hot' else 0\n",
    "        hot = 1 if temperature == 'Hot' else 0\n",
    "        mildly_warm = 1 if temperature == 'Mildly warm' else 0\n",
    "        warm = 1 if temperature == 'Warm' else 0\n",
    "        even = 1 if temperature == 'Even' else 0\n",
    "        cool = 1 if temperature == 'Cool' else 0\n",
    "        mildly_cold = 1 if temperature == 'Mildly cold' else 0\n",
    "        cold = 1 if temperature == 'Cold' else 0\n",
    "        great_cold = 1 if temperature == 'Great cold' else 0\n",
    "        if great_hot + hot + mildly_warm + warm + even + cool + mildly_cold + cold + great_cold != 1:\n",
    "            print(name, temperature)\n",
    "        herb = [great_hot, hot, mildly_warm, warm, even, cool, mildly_cold, cold, great_cold]\n",
    "        herbs.append(herb)\n",
    "\n",
    "with open('temp.csv', mode='w', newline='') as file:\n",
    "    writer = csv.writer(file)\n",
    "    writer.writerows(herbs)\n"
   ]
  },
  {
   "cell_type": "code",
   "execution_count": 9,
   "metadata": {},
   "outputs": [
    {
     "name": "stdout",
     "output_type": "stream",
     "text": [
      "7443\n"
     ]
    }
   ],
   "source": [
    "import csv\n",
    "import numpy as np\n",
    "chemicals = {}\n",
    "with open('updated_chemicals.csv', mode='r', newline='') as file:\n",
    "    csv_reader = csv.reader(file)\n",
    "    for row in csv_reader:\n",
    "        id, *values = row[:22]\n",
    "        chemical = np.array(values, dtype=float)\n",
    "        chemicals[int(id)] = chemical\n",
    "\n",
    "print(len(chemicals))"
   ]
  },
  {
   "cell_type": "code",
   "execution_count": null,
   "metadata": {},
   "outputs": [
    {
     "name": "stdout",
     "output_type": "stream",
     "text": [
      "402\n"
     ]
    }
   ],
   "source": [
    "import ast\n",
    "dataset = []\n",
    "with open('herb_components.csv', mode='r', newline='') as file:\n",
    "    csv_reader = csv.reader(file)\n",
    "    for row in csv_reader:\n",
    "        name, temperature, tropism, flavor, components = row\n",
    "        components = ast.literal_eval(components)\n",
    "        components = [int(i) for i in components]\n",
    "        # mean pooling\n",
    "        feature = np.zeros(len(chemicals[1]))\n",
    "        for id in components:\n",
    "            feature += chemicals[id]\n",
    "        feature /= len(components)\n",
    "\n",
    "        great_hot = 1 if temperature == 'Great hot' else 0\n",
    "        hot = 1 if temperature == 'Hot' else 0\n",
    "        mildly_warm = 1 if temperature == 'Mildly warm' else 0\n",
    "        warm = 1 if temperature == 'Warm' else 0\n",
    "        even = 1 if temperature == 'Even' else 0\n",
    "        cool = 1 if temperature == 'Cool' else 0\n",
    "        mildly_cold = 1 if temperature == 'Mildly cold' else 0\n",
    "        cold = 1 if temperature == 'Cold' else 0\n",
    "        great_cold = 1 if temperature == 'Great cold' else 0\n",
    "        \n",
    "        liver = 1 if 'Liver' in tropism else 0\n",
    "        spleen = 1 if 'Spleen' in tropism else 0\n",
    "        kidney = 1 if 'Kidney' in tropism else 0\n",
    "        heart = 1 if 'Heart' in tropism else 0\n",
    "        large_intestine = 1 if 'Large intestine' in tropism else 0\n",
    "        stomach = 1 if 'Stomach' in tropism else 0\n",
    "        lung = 1 if 'Lung' in tropism else 0\n",
    "        gallbladder = 1 if 'Gallbladder' in tropism else 0\n",
    "        triple_burner = 1 if 'Triple burner' in tropism else 0\n",
    "        bladder = 1 if 'Bladder' in tropism else 0\n",
    "        small_intestine = 1 if 'Small intestine' in tropism else 0\n",
    "        pericardium = 1 if 'Pericardium' in tropism else 0\n",
    "        others = 1 if 'Others' in tropism else 0\n",
    "\n",
    "        bitter = 1 if 'Bitter' in flavor else 0\n",
    "        pungent = 1 if 'Pungent' in flavor else 0\n",
    "        sweet = 1 if 'Sweet' in flavor else 0\n",
    "        astringent = 1 if 'Astringent' in flavor else 0\n",
    "        salty = 1 if 'Salty' in flavor else 0\n",
    "        sour = 1 if 'Sour' in flavor else 0\n",
    "\n",
    "        target = [great_hot, hot, mildly_warm, warm, even, cool, mildly_cold, cold, great_cold,\n",
    "                  liver, spleen, kidney, heart, large_intestine, stomach, lung, gallbladder, triple_burner, bladder, small_intestine, pericardium, others,\n",
    "                  bitter, pungent, sweet, astringent, salty, sour]\n",
    "        data = feature.tolist() + target\n",
    "        dataset.append(data)\n",
    "        \n",
    "print(len(dataset))   \n",
    "\n",
    "        "
   ]
  },
  {
   "cell_type": "code",
   "execution_count": 16,
   "metadata": {},
   "outputs": [],
   "source": [
    "with open('dataset.csv', mode='w', newline='') as file:\n",
    "    writer = csv.writer(file)\n",
    "    writer.writerows(dataset)"
   ]
  }
 ],
 "metadata": {
  "kernelspec": {
   "display_name": "Python 3",
   "language": "python",
   "name": "python3"
  },
  "language_info": {
   "codemirror_mode": {
    "name": "ipython",
    "version": 3
   },
   "file_extension": ".py",
   "mimetype": "text/x-python",
   "name": "python",
   "nbconvert_exporter": "python",
   "pygments_lexer": "ipython3",
   "version": "3.11.5"
  }
 },
 "nbformat": 4,
 "nbformat_minor": 2
}
